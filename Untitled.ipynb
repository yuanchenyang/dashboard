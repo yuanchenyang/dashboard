{
 "cells": [
  {
   "cell_type": "code",
   "execution_count": 2,
   "metadata": {
    "autoscroll": false,
    "collapsed": false,
    "ein.hycell": false,
    "ein.tags": "worksheet-0",
    "slideshow": {
     "slide_type": "-"
    }
   },
   "outputs": [],
   "source": [
    "from gbfs.client import GBFSClient\n",
    "BLUEBIKE_GBFS = \"https://gbfs.bluebikes.com/gbfs/gbfs.json\""
   ]
  },
  {
   "cell_type": "code",
   "execution_count": 12,
   "metadata": {
    "autoscroll": false,
    "collapsed": false,
    "ein.hycell": false,
    "ein.tags": "worksheet-0",
    "slideshow": {
     "slide_type": "-"
    }
   },
   "outputs": [],
   "source": [
    "client = GBFSClient(BLUEBIKE_GBFS, )\n",
    "station_information = client.request_feed('station_information')\n",
    "stations = {s['station_id']: s for s in station_information['data']['stations']}"
   ]
  },
  {
   "cell_type": "code",
   "execution_count": null,
   "metadata": {
    "autoscroll": false,
    "collapsed": false,
    "ein.hycell": false,
    "ein.tags": "worksheet-0",
    "slideshow": {
     "slide_type": "-"
    }
   },
   "outputs": [],
   "source": [
    "stations['80']"
   ]
  },
  {
   "cell_type": "code",
   "execution_count": 54,
   "metadata": {
    "autoscroll": false,
    "collapsed": false,
    "ein.hycell": false,
    "ein.tags": "worksheet-0",
    "slideshow": {
     "slide_type": "-"
    }
   },
   "outputs": [
    {
     "data": {
      "text/plain": [
       "'&apikey=5838a18e295d&city=Cambridge&iso2=us&lat=42.375099&lon=-71.105598&asl=5&tz=America%2FNew_York&dt=1&fcstlength=72&lang=en&ts=1564582725&sig=142245eab44abb1f17b1e065a02b6c0e'"
      ]
     },
     "execution_count": 54,
     "metadata": {},
     "output_type": "execute_result"
    }
   ],
   "source": [
    "import requests\n",
    "from bs4 import BeautifulSoup\n",
    "\n",
    "METEOBLUE_URL = 'https://www.meteoblue.com/en/weather/forecast/multimodel/cambridge_united-states-of-america_4931972'\n",
    "headers = {'User-Agent': 'Mozilla/5.0 (Macintosh; Intel Mac OS X 10_10_1) AppleWebKit/537.36 (KHTML, like Gecko) Chrome/39.0.2171.95 Safari/537.36'}\n",
    "\n",
    "soup = BeautifulSoup(requests.get(METEOBLUE_URL, headers=headers).text)\n",
    "url = soup.find(id='blooimage').find('img')['data-original']"
   ]
  },
  {
   "cell_type": "code",
   "execution_count": 55,
   "metadata": {
    "autoscroll": false,
    "collapsed": false,
    "ein.hycell": false,
    "ein.tags": "worksheet-0",
    "slideshow": {
     "slide_type": "-"
    }
   },
   "outputs": [
    {
     "data": {
      "text/plain": [
       "'//my.meteoblue.com/visimage/meteogram_multiSimple?look=MILE_PER_HOUR%2CFAHRENHEIT%2CINCH&apikey=5838a18e295d&city=Cambridge&iso2=us&lat=42.375099&lon=-71.105598&asl=5&tz=America%2FNew_York&dt=1&fcstlength=72&lang=en&ts=1564582725&sig=142245eab44abb1f17b1e065a02b6c0e'"
      ]
     },
     "execution_count": 55,
     "metadata": {},
     "output_type": "execute_result"
    }
   ],
   "source": [
    "url"
   ]
  }
 ],
 "metadata": {
  "kernelspec": {
   "display_name": "Python 3",
   "name": "python3"
  },
  "name": "Untitled.ipynb"
 },
 "nbformat": 4,
 "nbformat_minor": 2
}
