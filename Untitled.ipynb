{
 "cells": [
  {
   "cell_type": "code",
   "execution_count": 1,
   "metadata": {
    "autoscroll": false,
    "collapsed": false,
    "ein.hycell": false,
    "ein.tags": "worksheet-0",
    "slideshow": {
     "slide_type": "-"
    }
   },
   "outputs": [],
   "source": [
    "from gbfs.client import GBFSClient\n",
    "BLUEBIKE_GBFS = \"https://gbfs.bluebikes.com/gbfs/gbfs.json\""
   ]
  },
  {
   "cell_type": "code",
   "execution_count": 2,
   "metadata": {
    "autoscroll": false,
    "collapsed": false,
    "ein.hycell": false,
    "ein.tags": "worksheet-0",
    "slideshow": {
     "slide_type": "-"
    }
   },
   "outputs": [],
   "source": [
    "client = GBFSClient(BLUEBIKE_GBFS, )\n",
    "station_information = client.request_feed('station_information')\n",
    "stations = {s['station_id']: s for s in station_information['data']['stations']}"
   ]
  },
  {
   "cell_type": "code",
   "execution_count": 5,
   "metadata": {
    "autoscroll": false,
    "collapsed": false,
    "ein.hycell": false,
    "ein.tags": "worksheet-0",
    "slideshow": {
     "slide_type": "-"
    }
   },
   "outputs": [],
   "source": [
    "from utils import GBFSStationClient\n",
    "client = GBFSStationClient(BLUEBIKE_GBFS)\n",
    "stations = client.get_stations()"
   ]
  },
  {
   "cell_type": "code",
   "execution_count": 11,
   "metadata": {
    "autoscroll": false,
    "collapsed": false,
    "ein.hycell": false,
    "ein.tags": "worksheet-0",
    "slideshow": {
     "slide_type": "-"
    }
   },
   "outputs": [
    {
     "name": "stdout",
     "output_type": "stream",
     "text": [
      "{'station_id': '67', 'external_id': 'f83493c0-0de8-11e7-991c-3863bb43a7d0', 'name': 'MIT at Mass Ave / Amherst St', 'short_name': 'M32006', 'lat': 42.3581, 'lon': -71.093198, 'region_id': 8, 'rental_methods': ['KEY', 'CREDITCARD'], 'capacity': 27, 'rental_url': 'https://www.bluebikes.com/app?station_id=67', 'electric_bike_surcharge_waiver': False, 'eightd_has_key_dispenser': True, 'has_kiosk': True, 'num_bikes_available': 15, 'num_ebikes_available': 0, 'num_bikes_disabled': 4, 'num_docks_available': 8, 'num_docks_disabled': 0, 'is_installed': 1, 'is_renting': 1, 'is_returning': 1, 'last_reported': 1564702126, 'eightd_has_available_keys': True}\n"
     ]
    }
   ],
   "source": [
    "for s in stations.values():\n",
    "    if s['short_name'] == \"M32006\":\n",
    "        print(s)"
   ]
  },
  {
   "cell_type": "code",
   "execution_count": 9,
   "metadata": {
    "autoscroll": false,
    "collapsed": false,
    "ein.hycell": false,
    "ein.tags": "worksheet-0",
    "slideshow": {
     "slide_type": "-"
    }
   },
   "outputs": [
    {
     "data": {
      "text/plain": [
       "{'station_id': '184',\n 'external_id': 'f83516b8-0de8-11e7-991c-3863bb43a7d0',\n 'name': 'Sidney Research Campus/ Erie Street at Waverly',\n 'short_name': 'M32047',\n 'lat': 42.35775309465199,\n 'lon': -71.10393404960632,\n 'region_id': 8,\n 'rental_methods': ['KEY', 'CREDITCARD'],\n 'capacity': 19,\n 'rental_url': 'https://www.bluebikes.com/app?station_id=184',\n 'electric_bike_surcharge_waiver': False,\n 'eightd_has_key_dispenser': False,\n 'has_kiosk': True,\n 'num_bikes_available': 3,\n 'num_ebikes_available': 0,\n 'num_bikes_disabled': 0,\n 'num_docks_available': 16,\n 'num_docks_disabled': 0,\n 'is_installed': 1,\n 'is_renting': 1,\n 'is_returning': 1,\n 'last_reported': 1564701549,\n 'eightd_has_available_keys': False}"
      ]
     },
     "execution_count": 9,
     "metadata": {},
     "output_type": "execute_result"
    }
   ],
   "source": [
    "stations['184']"
   ]
  },
  {
   "cell_type": "code",
   "execution_count": 54,
   "metadata": {
    "autoscroll": false,
    "collapsed": false,
    "ein.hycell": false,
    "ein.tags": "worksheet-0",
    "slideshow": {
     "slide_type": "-"
    }
   },
   "outputs": [
    {
     "data": {
      "text/plain": [
       "'&apikey=5838a18e295d&city=Cambridge&iso2=us&lat=42.375099&lon=-71.105598&asl=5&tz=America%2FNew_York&dt=1&fcstlength=72&lang=en&ts=1564582725&sig=142245eab44abb1f17b1e065a02b6c0e'"
      ]
     },
     "execution_count": 54,
     "metadata": {},
     "output_type": "execute_result"
    }
   ],
   "source": [
    "import requests\n",
    "from bs4 import BeautifulSoup\n",
    "\n",
    "METEOBLUE_URL = 'https://www.meteoblue.com/en/weather/forecast/multimodel/cambridge_united-states-of-america_4931972'\n",
    "headers = {'User-Agent': 'Mozilla/5.0 (Macintosh; Intel Mac OS X 10_10_1) AppleWebKit/537.36 (KHTML, like Gecko) Chrome/39.0.2171.95 Safari/537.36'}\n",
    "\n",
    "soup = BeautifulSoup(requests.get(METEOBLUE_URL, headers=headers).text)\n",
    "url = soup.find(id='blooimage').find('img')['data-original']"
   ]
  },
  {
   "cell_type": "code",
   "execution_count": 55,
   "metadata": {
    "autoscroll": false,
    "collapsed": false,
    "ein.hycell": false,
    "ein.tags": "worksheet-0",
    "slideshow": {
     "slide_type": "-"
    }
   },
   "outputs": [
    {
     "data": {
      "text/plain": [
       "'//my.meteoblue.com/visimage/meteogram_multiSimple?look=MILE_PER_HOUR%2CFAHRENHEIT%2CINCH&apikey=5838a18e295d&city=Cambridge&iso2=us&lat=42.375099&lon=-71.105598&asl=5&tz=America%2FNew_York&dt=1&fcstlength=72&lang=en&ts=1564582725&sig=142245eab44abb1f17b1e065a02b6c0e'"
      ]
     },
     "execution_count": 55,
     "metadata": {},
     "output_type": "execute_result"
    }
   ],
   "source": [
    "url"
   ]
  }
 ],
 "metadata": {
  "kernelspec": {
   "display_name": "Python 3",
   "name": "python3"
  },
  "name": "Untitled.ipynb"
 },
 "nbformat": 4,
 "nbformat_minor": 2
}
